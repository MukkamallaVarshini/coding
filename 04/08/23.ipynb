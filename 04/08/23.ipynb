{
  "nbformat": 4,
  "nbformat_minor": 0,
  "metadata": {
    "colab": {
      "provenance": [],
      "authorship_tag": "ABX9TyPvDqw6Ih8WL+hK3kSuiIfG"
    },
    "kernelspec": {
      "name": "python3",
      "display_name": "Python 3"
    },
    "language_info": {
      "name": "python"
    }
  },
  "cells": [
    {
      "cell_type": "code",
      "execution_count": 1,
      "metadata": {
        "colab": {
          "base_uri": "https://localhost:8080/"
        },
        "id": "V62iv77Au8Gv",
        "outputId": "29a96b63-842c-421e-e9a0-28a4091cbbf1"
      },
      "outputs": [
        {
          "output_type": "stream",
          "name": "stdout",
          "text": [
            "[1, 3, 8, 11, 5, 0, 0, 0]\n"
          ]
        }
      ],
      "source": [
        "nums=[1,3,0,8,0,11,0,5]\n",
        "n1=[]\n",
        "n2=[]\n",
        "for i in nums:\n",
        "  if i==0:\n",
        "    n1.append(i)\n",
        "  else:\n",
        "    n2.append(i)\n",
        "print(n2+n1)\n",
        "\n"
      ]
    },
    {
      "cell_type": "code",
      "source": [
        "nums=[1,0,5,8,3]\n",
        "n1=[]\n",
        "n2=[]\n",
        "for i in nums:\n",
        "  if i==0:\n",
        "    n1.append(i)\n",
        "  else:\n",
        "    n2.append(i)\n",
        "k=int(len(n2)/2)\n",
        "p=n2[:k]\n",
        "p1=n2[k:]\n",
        "print(p+n1+p1)"
      ],
      "metadata": {
        "colab": {
          "base_uri": "https://localhost:8080/"
        },
        "id": "G6GxMIQ1weTX",
        "outputId": "a3c041ab-9e86-43d1-8a0c-9b3bc3df5f6e"
      },
      "execution_count": 9,
      "outputs": [
        {
          "output_type": "stream",
          "name": "stdout",
          "text": [
            "[1, 5, 0, 8, 3]\n"
          ]
        }
      ]
    },
    {
      "cell_type": "code",
      "source": [
        "n=int(input(\"enter a number:\" ))\n",
        "if n/2==0:\n",
        "  if n<6 and n<=20:\n",
        "    print(\"weird\")\n",
        "  else:\n",
        "     print(\"not weird\")\n",
        "else:\n",
        "  print(\"weird\")"
      ],
      "metadata": {
        "colab": {
          "base_uri": "https://localhost:8080/"
        },
        "id": "0oUOzq2ayidv",
        "outputId": "0c7f4181-bd6d-45b9-fa8e-708a9f08213d"
      },
      "execution_count": 17,
      "outputs": [
        {
          "output_type": "stream",
          "name": "stdout",
          "text": [
            "enter a number:6\n",
            "weird\n"
          ]
        }
      ]
    }
  ]
}