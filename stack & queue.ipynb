{
  "nbformat": 4,
  "nbformat_minor": 0,
  "metadata": {
    "colab": {
      "provenance": [],
      "authorship_tag": "ABX9TyMJeLkT0BJcM0rASV/adSiV"
    },
    "kernelspec": {
      "name": "python3",
      "display_name": "Python 3"
    },
    "language_info": {
      "name": "python"
    }
  },
  "cells": [
    {
      "cell_type": "code",
      "execution_count": 8,
      "metadata": {
        "colab": {
          "base_uri": "https://localhost:8080/"
        },
        "id": "q_g0XFXgLYxa",
        "outputId": "8d620aca-0acf-4cbd-81ef-9eee4007c681"
      },
      "outputs": [
        {
          "name": "stdout",
          "output_type": "stream",
          "text": [
            "select operation 1.add 2.remove 3.quit\n",
            "2\n",
            "stack is empty\n",
            "select operation 1.add 2.remove 3.quit\n",
            "4\n",
            "enter correct operation\n",
            "select operation 1.add 2.remove 3.quit\n",
            "1\n",
            "enter element:10\n",
            "['10']\n",
            "select operation 1.add 2.remove 3.quit\n",
            "1\n",
            "enter element:20\n",
            "['10', '20']\n",
            "select operation 1.add 2.remove 3.quit\n",
            "1\n",
            "enter element:30\n",
            "['10', '20', '30']\n",
            "select operation 1.add 2.remove 3.quit\n",
            "2\n",
            "removed element 30\n",
            "['10', '20']\n",
            "select operation 1.add 2.remove 3.quit\n",
            "3\n"
          ]
        }
      ],
      "source": [
        "# stack using list\n",
        "\n",
        "stack=[]\n",
        "def push():\n",
        "  element=input(\"enter element:\")\n",
        "  stack.append(element)\n",
        "  print(stack)\n",
        "def pop():\n",
        "  if not stack:\n",
        "    print(\"stack is empty\")\n",
        "  else:\n",
        "    e=stack.pop()\n",
        "    print(\"removed element\",e)\n",
        "    print(stack)\n",
        "while True:\n",
        "  print(\"select operation 1.add 2.remove 3.quit\")\n",
        "  choice=int(input())\n",
        "  if choice==1:\n",
        "    push()\n",
        "  elif choice==2:\n",
        "    pop()\n",
        "  elif choice==3:\n",
        "    break\n",
        "  else:\n",
        "    print(\"enter correct operation\")"
      ]
    },
    {
      "cell_type": "code",
      "source": [
        "stack=[]\n",
        "def push():\n",
        "  if len(stack)==n:\n",
        "    print(\"stack is full\")\n",
        "  else:\n",
        "    element=input(\"enter element:\")\n",
        "    stack.append(element)\n",
        "    print(stack)\n",
        "def pop():\n",
        "  if not stack:\n",
        "    print(\"stack is empty\")\n",
        "  else:\n",
        "    e=stack.pop()\n",
        "    print(\"removed element:\",e)\n",
        "    print(stack)\n",
        "n=int(input(\"enter limit of stack\"))\n",
        "while True:\n",
        "  print(\"select operation 1.push 2.pop 3.quit\")\n",
        "  choice=int(input())\n",
        "  if choice==1:\n",
        "    push()\n",
        "  elif choice==2:\n",
        "    pop()\n",
        "  elif choice==3:\n",
        "    break\n",
        "  else:\n",
        "    print(\"select correct operation\")\n",
        "\n"
      ],
      "metadata": {
        "colab": {
          "base_uri": "https://localhost:8080/"
        },
        "id": "2rY7nlgDOaBt",
        "outputId": "3b599f55-e3c2-4aff-be0e-1a7313a67241"
      },
      "execution_count": 18,
      "outputs": [
        {
          "name": "stdout",
          "output_type": "stream",
          "text": [
            "enter limit of stack3\n",
            "select operation 1.push 2.pop 3.quit\n",
            "1\n",
            "enter element:10\n",
            "['10']\n",
            "select operation 1.push 2.pop 3.quit\n",
            "1\n",
            "enter element:20\n",
            "['10', '20']\n",
            "select operation 1.push 2.pop 3.quit\n",
            "1\n",
            "enter element:30\n",
            "['10', '20', '30']\n",
            "select operation 1.push 2.pop 3.quit\n",
            "1\n",
            "stack is full\n",
            "select operation 1.push 2.pop 3.quit\n",
            "2\n",
            "removed element: 30\n",
            "['10', '20']\n",
            "select operation 1.push 2.pop 3.quit\n",
            "4\n",
            "select correct operation\n",
            "select operation 1.push 2.pop 3.quit\n",
            "2\n",
            "removed element: 20\n",
            "['10']\n",
            "select operation 1.push 2.pop 3.quit\n",
            "2\n",
            "removed element: 10\n",
            "[]\n",
            "select operation 1.push 2.pop 3.quit\n",
            "2\n",
            "stack is empty\n",
            "select operation 1.push 2.pop 3.quit\n",
            "3\n"
          ]
        }
      ]
    },
    {
      "cell_type": "code",
      "source": [
        "# queue\n",
        "\n",
        "queue=[]\n",
        "def enqueue():\n",
        "  element=input(\"eneter element\")\n",
        "  queue.append(element)\n",
        "  print(element,\"is added to queue\")\n",
        "  print(queue)\n",
        "def dequeue():\n",
        "  if not queue:\n",
        "    print(\"queue is empty\")\n",
        "  else:\n",
        "    e=queue.pop(0)\n",
        "    print(e,\"removed element in queue\")\n",
        "def display():\n",
        "  print(queue)\n",
        "while True:\n",
        "  print(\"select operation: 1.add 2.remove 3.show 4.quit\")\n",
        "  choice=int(input())\n",
        "  if choice==1:\n",
        "    enqueue()\n",
        "  elif choice==2:\n",
        "    dequeue()\n",
        "  elif choice==3:\n",
        "    display()\n",
        "  elif choice==4:\n",
        "    brea20\n",
        "    k\n",
        "  else:\n",
        "    print(\"enter correct operation\")\n",
        ""
      ],
      "metadata": {
        "colab": {
          "base_uri": "https://localhost:8080/"
        },
        "id": "0qRBKwEhOfKg",
        "outputId": "f959b07b-f620-4cff-dafc-012f52143c62"
      },
      "execution_count": 24,
      "outputs": [
        {
          "name": "stdout",
          "output_type": "stream",
          "text": [
            "select operation: 1.add 2.remove 3.show 4.quit\n",
            "1\n",
            "eneter element10\n",
            "10 is added to queue\n",
            "['10']\n",
            "select operation: 1.add 2.remove 3.show 4.quit\n",
            "30\n",
            "enter correct operation\n",
            "select operation: 1.add 2.remove 3.show 4.quit\n",
            "1\n",
            "eneter element30\n",
            "30 is added to queue\n",
            "['10', '30']\n",
            "select operation: 1.add 2.remove 3.show 4.quit\n",
            "1\n",
            "eneter element20\n",
            "20 is added to queue\n",
            "['10', '30', '20']\n",
            "select operation: 1.add 2.remove 3.show 4.quit\n",
            "2\n",
            "10 removed element in queue\n",
            "select operation: 1.add 2.remove 3.show 4.quit\n",
            "2\n",
            "30 removed element in queue\n",
            "select operation: 1.add 2.remove 3.show 4.quit\n",
            "3\n",
            "['20']\n",
            "select operation: 1.add 2.remove 3.show 4.quit\n",
            "4\n"
          ]
        }
      ]
    },
    {
      "cell_type": "code",
      "source": [
        "# priority queue\n",
        "\n",
        "q=[]\n",
        "q.append((2,\"hi\"))\n",
        "q.append((1,\"hello\"))\n",
        "q.append((5,\"welcome\"))\n",
        "q.sort(reverse=True)\n",
        "q\n",
        "q.pop()\n",
        "q.pop()\n",
        "q.pop()\n"
      ],
      "metadata": {
        "colab": {
          "base_uri": "https://localhost:8080/"
        },
        "id": "GV-Zxn7XR79f",
        "outputId": "2837d865-ff64-43fe-ded4-5c48924e30d6"
      },
      "execution_count": 32,
      "outputs": [
        {
          "output_type": "execute_result",
          "data": {
            "text/plain": [
              "(5, 'welcome')"
            ]
          },
          "metadata": {},
          "execution_count": 32
        }
      ]
    }
  ]
}