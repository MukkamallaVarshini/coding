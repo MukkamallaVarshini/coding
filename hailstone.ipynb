{
  "nbformat": 4,
  "nbformat_minor": 0,
  "metadata": {
    "colab": {
      "provenance": [],
      "authorship_tag": "ABX9TyNIt99tPx24ie9WOedZ0M+a"
    },
    "kernelspec": {
      "name": "python3",
      "display_name": "Python 3"
    },
    "language_info": {
      "name": "python"
    }
  },
  "cells": [
    {
      "cell_type": "code",
      "execution_count": 10,
      "metadata": {
        "colab": {
          "base_uri": "https://localhost:8080/"
        },
        "id": "_sWOnB9vS69t",
        "outputId": "ad851d9b-de4b-4fb8-f0c9-1927f707ce26"
      },
      "outputs": [
        {
          "output_type": "stream",
          "name": "stdout",
          "text": [
            "enter a number:3\n",
            "3\n",
            "10\n",
            "5\n",
            "16\n",
            "8\n",
            "4\n",
            "2\n"
          ]
        }
      ],
      "source": [
        "no=int(input(\"enter a number:\"))\n",
        "while(no!=1):\n",
        "  print(no)\n",
        "  if no%2==0:\n",
        "    no=no//2\n",
        "  else:\n",
        "    no=no*3+1\n"
      ]
    }
  ]
}