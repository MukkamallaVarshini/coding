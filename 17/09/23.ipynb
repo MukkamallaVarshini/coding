{
  "nbformat": 4,
  "nbformat_minor": 0,
  "metadata": {
    "colab": {
      "provenance": [],
      "authorship_tag": "ABX9TyM7ne1DBhGAnbwrjAZ9cmiv"
    },
    "kernelspec": {
      "name": "python3",
      "display_name": "Python 3"
    },
    "language_info": {
      "name": "python"
    }
  },
  "cells": [
    {
      "cell_type": "code",
      "execution_count": 3,
      "metadata": {
        "colab": {
          "base_uri": "https://localhost:8080/"
        },
        "id": "y6gwCUhpbhj5",
        "outputId": "bd41a745-0ee5-478a-fb48-c74bf77780e0"
      },
      "outputs": [
        {
          "output_type": "stream",
          "name": "stdout",
          "text": [
            "3\n"
          ]
        }
      ],
      "source": [
        "# deltax question\n",
        "\n",
        "n=[3,4,1,3,20,1]\n",
        "p=sorted(n)\n",
        "k=p[:5]\n",
        "print(max(k)-min(k))"
      ]
    }
  ]
}