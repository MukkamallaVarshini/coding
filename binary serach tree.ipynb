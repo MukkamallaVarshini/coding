{
  "nbformat": 4,
  "nbformat_minor": 0,
  "metadata": {
    "colab": {
      "provenance": [],
      "authorship_tag": "ABX9TyOXbC6sahve5eulvMeUe5wN"
    },
    "kernelspec": {
      "name": "python3",
      "display_name": "Python 3"
    },
    "language_info": {
      "name": "python"
    }
  },
  "cells": [
    {
      "cell_type": "code",
      "execution_count": 1,
      "metadata": {
        "colab": {
          "base_uri": "https://localhost:8080/"
        },
        "id": "E_y4qtqJtBOO",
        "outputId": "0e206802-7fe5-4369-cc61-82cf072656f4"
      },
      "outputs": [
        {
          "output_type": "stream",
          "name": "stdout",
          "text": [
            "bst is empty\n",
            "node is not present in lst\n",
            "preoreder\n",
            "10 6 3 1 7 98 \n",
            "inorder\n",
            "1 3 6 7 10 98 \n",
            "postorder\n",
            "1 3 7 6 98 10 "
          ]
        }
      ],
      "source": [
        "# binary search tree\n",
        "#create a node\n",
        "class BST:\n",
        "    def __init__(self,key):\n",
        "        self.key=key\n",
        "        self.lchild=None\n",
        "        self.rchild=None\n",
        "    # insert the elements\n",
        "    def insert(self,data):\n",
        "        if self.key is None:\n",
        "            self.key=data\n",
        "            return\n",
        "        # duplicates\n",
        "        if self.key==data:\n",
        "            pritn(\"BST is empty\")\n",
        "        # left sub tree\n",
        "        if data<self.key:\n",
        "            if self.lchild:\n",
        "                self.lchild.insert(data)\n",
        "            else:\n",
        "                self.lchild=BST(data)\n",
        "        # right sub tree\n",
        "        else:\n",
        "            if self.rchild:\n",
        "                self.rchild.insert(data)\n",
        "            else:\n",
        "                self.rchild=BST(data)\n",
        "    def search(self,data):\n",
        "        if self.key==data:\n",
        "            print(\"bst is empty\")\n",
        "        if data<self.key:\n",
        "            if self.lchild:\n",
        "               self.lchild.search(data)\n",
        "            else:\n",
        "                print(\"node is not present in lst\")\n",
        "        else:\n",
        "            if self.rchild:\n",
        "                self.rchild.search(data)\n",
        "            else:\n",
        "                print(\"node is not present in rst\")\n",
        "    # traversing algorithms\n",
        "    def preorder(self):\n",
        "        print(self.key,end=\" \")\n",
        "        if self.lchild:\n",
        "            self.lchild.preorder()\n",
        "        if self.rchild:\n",
        "            self.rchild.preorder()\n",
        "    def inorder(self):\n",
        "        if self.lchild:\n",
        "            self.lchild.inorder()\n",
        "        print(self.key,end=\" \")\n",
        "        if self.rchild:\n",
        "            self.rchild.inorder()\n",
        "    def postorder(self):\n",
        "        if self.lchild:\n",
        "            self.lchild.postorder()\n",
        "        if self.rchild:\n",
        "            self.rchild.postorder()\n",
        "        print(self.key,end=\" \")\n",
        "root=BST(10)\n",
        "l=[6,3,1,98,7]\n",
        "for i in l:\n",
        "    root.insert(i)\n",
        "root.search(6)\n",
        "print(\"preoreder\")\n",
        "root.preorder()\n",
        "print()\n",
        "print(\"inorder\")\n",
        "root.inorder()\n",
        "print()\n",
        "print(\"postorder\")\n",
        "root.postorder()"
      ]
    }
  ]
}