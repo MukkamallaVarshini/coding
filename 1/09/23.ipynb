{
  "nbformat": 4,
  "nbformat_minor": 0,
  "metadata": {
    "colab": {
      "provenance": [],
      "authorship_tag": "ABX9TyN3huSE14wAgBKr7FPIfQfC"
    },
    "kernelspec": {
      "name": "python3",
      "display_name": "Python 3"
    },
    "language_info": {
      "name": "python"
    }
  },
  "cells": [
    {
      "cell_type": "code",
      "execution_count": 1,
      "metadata": {
        "colab": {
          "base_uri": "https://localhost:8080/"
        },
        "id": "15wfwZIPG0kF",
        "outputId": "0015b5b9-2363-48c2-c901-2fdf60798070"
      },
      "outputs": [
        {
          "output_type": "stream",
          "name": "stdout",
          "text": [
            "[5, 7]\n"
          ]
        }
      ],
      "source": [
        "def lonelynumber(n):\n",
        "    s=[]\n",
        "    for i in n:\n",
        "        v=n.count(i)\n",
        "        if v<2:\n",
        "            s.append(i)\n",
        "    print(s)\n",
        "lonelynumber([2,1,4,2,1,5,4,7])"
      ]
    }
  ]
}