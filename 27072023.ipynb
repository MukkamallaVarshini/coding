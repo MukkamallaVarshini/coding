{
  "nbformat": 4,
  "nbformat_minor": 0,
  "metadata": {
    "colab": {
      "provenance": [],
      "authorship_tag": "ABX9TyP82Fip00n6Lnan4mg7rvHO"
    },
    "kernelspec": {
      "name": "python3",
      "display_name": "Python 3"
    },
    "language_info": {
      "name": "python"
    }
  },
  "cells": [
    {
      "cell_type": "code",
      "execution_count": 2,
      "metadata": {
        "colab": {
          "base_uri": "https://localhost:8080/"
        },
        "id": "YEYR7pviRKvU",
        "outputId": "ea1794da-5b57-485f-fda2-989c2b8fa8a3"
      },
      "outputs": [
        {
          "output_type": "stream",
          "name": "stdout",
          "text": [
            "[9, 4, 8, 1, 5, 3]\n"
          ]
        }
      ],
      "source": [
        "num=[9,4,81,53]\n",
        "s=\"\"\n",
        "for i in num:\n",
        "    s+=str(i)\n",
        "res=[]\n",
        "for i in s:\n",
        "    res.append(int(i))\n",
        "print(res)"
      ]
    }
  ]
}