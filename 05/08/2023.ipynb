{
  "nbformat": 4,
  "nbformat_minor": 0,
  "metadata": {
    "colab": {
      "provenance": [],
      "authorship_tag": "ABX9TyNb521RDF3y02VIDN1dQ6Is"
    },
    "kernelspec": {
      "name": "python3",
      "display_name": "Python 3"
    },
    "language_info": {
      "name": "python"
    }
  },
  "cells": [
    {
      "cell_type": "code",
      "execution_count": 44,
      "metadata": {
        "colab": {
          "base_uri": "https://localhost:8080/"
        },
        "id": "DA5i9967rEPY",
        "outputId": "3318307b-325a-4770-a9d5-4c5106f284db"
      },
      "outputs": [
        {
          "output_type": "stream",
          "name": "stdout",
          "text": [
            " world my to welcome\n"
          ]
        }
      ],
      "source": [
        "s=\"welcome to my world\".split()\n",
        "n=\" \"\n",
        "for i in s[::-1]:\n",
        "  n+=i+\" \"\n",
        "st=n[:-1]\n",
        "print(st)"
      ]
    },
    {
      "cell_type": "code",
      "source": [
        "s=\"welcome*to*my*world\".split(\"*\")\n",
        "n=\" \"\n",
        "for i in s[::-1]:\n",
        "  n+=i+\" \"\n",
        "  st=n[:-1]\n",
        "print(st)"
      ],
      "metadata": {
        "colab": {
          "base_uri": "https://localhost:8080/"
        },
        "id": "c2NkJ9aYu1IF",
        "outputId": "74d68805-ead6-452a-e6a9-3c3857594330"
      },
      "execution_count": 47,
      "outputs": [
        {
          "output_type": "stream",
          "name": "stdout",
          "text": [
            " welcome*to*my*world\n"
          ]
        }
      ]
    },
    {
      "cell_type": "code",
      "source": [
        "//sqares //\n",
        "\n",
        "n=int(input())\n",
        "for i in range(n):\n",
        "  print(i**2)\n"
      ],
      "metadata": {
        "colab": {
          "base_uri": "https://localhost:8080/"
        },
        "id": "BFRUaRi3vkyH",
        "outputId": "2732f9e8-1413-4a30-85fb-7810cfdc9376"
      },
      "execution_count": 39,
      "outputs": [
        {
          "output_type": "stream",
          "name": "stdout",
          "text": [
            "5\n",
            "0\n",
            "1\n",
            "4\n",
            "9\n",
            "16\n"
          ]
        }
      ]
    },
    {
      "cell_type": "code",
      "source": [
        "// powers //\n",
        "a=2\n",
        "b=3\n",
        "c=4\n",
        "d=5\n",
        "print(pow(a,b)+pow(c,d))"
      ],
      "metadata": {
        "colab": {
          "base_uri": "https://localhost:8080/"
        },
        "id": "ijIXEKGfvXlv",
        "outputId": "84230a7d-ba82-430c-e623-94aacaf5ddeb"
      },
      "execution_count": 46,
      "outputs": [
        {
          "output_type": "stream",
          "name": "stdout",
          "text": [
            "1032\n"
          ]
        }
      ]
    }
  ]
}