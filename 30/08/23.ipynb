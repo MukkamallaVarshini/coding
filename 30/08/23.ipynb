{
  "nbformat": 4,
  "nbformat_minor": 0,
  "metadata": {
    "colab": {
      "provenance": [],
      "authorship_tag": "ABX9TyNhdg9JysEYBmEMza84e0GL"
    },
    "kernelspec": {
      "name": "python3",
      "display_name": "Python 3"
    },
    "language_info": {
      "name": "python"
    }
  },
  "cells": [
    {
      "cell_type": "code",
      "execution_count": 17,
      "metadata": {
        "colab": {
          "base_uri": "https://localhost:8080/"
        },
        "id": "NNnG_OiWAyT_",
        "outputId": "0a6028ed-ad6a-4de1-f949-e6e2706dab4c"
      },
      "outputs": [
        {
          "output_type": "stream",
          "name": "stdout",
          "text": [
            "5\n",
            "60.0\n"
          ]
        }
      ],
      "source": [
        "/---- LCM & HCF --------/\n",
        "\n",
        "a=20\n",
        "b=15\n",
        "l1=[]\n",
        "l2=[]\n",
        "for i in range(1,a+1):\n",
        "  if a%i==0:\n",
        "    l1.append(i)\n",
        "for i in range(1,b+1):\n",
        "  if b%i==0:\n",
        "    l2.append(i)\n",
        "l3=[]\n",
        "for i in l1:\n",
        "  if i in l2:\n",
        "    l3.append(i)\n",
        "print(max(l3))\n",
        "print(a*b/5)\n"
      ]
    },
    {
      "cell_type": "code",
      "source": [
        "def fact(a,b):\n",
        "  l1=[]\n",
        "  l2=[]\n",
        "  for i in range(1,a+1):\n",
        "    if a%i==0:\n",
        "      l1.append(i)\n",
        "  for i in range(1,b+1):\n",
        "    if b%i==0:\n",
        "      l2.append(i)\n",
        "  l3=[]\n",
        "  for i in l1:\n",
        "    if i in l2:\n",
        "      l3.append(i)\n",
        "  print(max(l3))\n",
        "fact(15,20)"
      ],
      "metadata": {
        "colab": {
          "base_uri": "https://localhost:8080/"
        },
        "id": "5lrFbK_dHpnT",
        "outputId": "305e0640-3d74-4cca-959f-f112f3b019f9"
      },
      "execution_count": 11,
      "outputs": [
        {
          "output_type": "stream",
          "name": "stdout",
          "text": [
            "5\n"
          ]
        }
      ]
    },
    {
      "cell_type": "code",
      "source": [
        "def fact(a,b):\n",
        "  l1=[]\n",
        "  l2=[]\n",
        "  for i in range(1,a+1):\n",
        "    if a%i==0:\n",
        "      l1.append(i)\n",
        "  for i in range(1,b+1):\n",
        "    if b%i==0:\n",
        "      l2.append(i)\n",
        "  l3=[]\n",
        "  for i in l1:\n",
        "    if i in l2:\n",
        "      l3.append(i)\n",
        "  print(max(l3))\n",
        "fact(15,20)"
      ],
      "metadata": {
        "colab": {
          "base_uri": "https://localhost:8080/"
        },
        "id": "CGHWl0LeIhkF",
        "outputId": "a4046594-de71-4ac2-8798-7382cc758d64"
      },
      "execution_count": 18,
      "outputs": [
        {
          "output_type": "stream",
          "name": "stdout",
          "text": [
            "5\n"
          ]
        }
      ]
    },
    {
      "cell_type": "code",
      "source": [
        "/---- trailing zeros --------/\n",
        "\n",
        "\n",
        "def trail(n):\n",
        "  n1=str(n)\n",
        "  n2=n1[::-1]\n",
        "  c=0\n",
        "  for i in n2:\n",
        "    if i==\"0\":\n",
        "      c+=1\n",
        "    else:\n",
        "      break;\n",
        "  print(c)\n",
        "trail(123000)"
      ],
      "metadata": {
        "colab": {
          "base_uri": "https://localhost:8080/"
        },
        "id": "qNYTXPjHBhbm",
        "outputId": "26c2c382-53db-4f5b-b32b-a9187d8f9e6a"
      },
      "execution_count": 3,
      "outputs": [
        {
          "output_type": "stream",
          "name": "stdout",
          "text": [
            "3\n"
          ]
        }
      ]
    },
    {
      "cell_type": "code",
      "source": [
        "def trail(n):\n",
        "  n1=str(n)\n",
        "  n2=n1[::-1]\n",
        "  c=0\n",
        "  for i in n2:\n",
        "    if i==\"0\":\n",
        "      c+=1\n",
        "    else:\n",
        "      break;\n",
        "  print(c)\n",
        "trail(576789)"
      ],
      "metadata": {
        "colab": {
          "base_uri": "https://localhost:8080/"
        },
        "id": "5vxRzxBgFc_G",
        "outputId": "903d0d5e-06d7-454e-f814-b67f3b8ae2e5"
      },
      "execution_count": 7,
      "outputs": [
        {
          "output_type": "stream",
          "name": "stdout",
          "text": [
            "0\n"
          ]
        }
      ]
    },
    {
      "cell_type": "code",
      "source": [
        "n=int(input(\"enter a number:\"))\n",
        "s=0\n",
        "for i in range(1,n):\n",
        "  if n%i==0:\n",
        "    s=s+i\n",
        "if s==n:\n",
        "  print(\"perfect number\")\n",
        "else:\n",
        "  print(\"not a perfect number\")"
      ],
      "metadata": {
        "colab": {
          "base_uri": "https://localhost:8080/"
        },
        "id": "UTCYtGzXOVGc",
        "outputId": "3fb1481a-02a0-4b41-97f5-fd7a2ceee1c1"
      },
      "execution_count": 21,
      "outputs": [
        {
          "output_type": "stream",
          "name": "stdout",
          "text": [
            "enter a number:8\n",
            "not a perfect number\n"
          ]
        }
      ]
    }
  ]
}