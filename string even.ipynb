{
  "nbformat": 4,
  "nbformat_minor": 0,
  "metadata": {
    "colab": {
      "provenance": [],
      "authorship_tag": "ABX9TyMdE25oytRPqZRr0MJSp1rJ"
    },
    "kernelspec": {
      "name": "python3",
      "display_name": "Python 3"
    },
    "language_info": {
      "name": "python"
    }
  },
  "cells": [
    {
      "cell_type": "code",
      "execution_count": 6,
      "metadata": {
        "colab": {
          "base_uri": "https://localhost:8080/"
        },
        "id": "WFdHU3NoZ40K",
        "outputId": "09b048bb-1f95-477f-e707-c5d370a96dac"
      },
      "outputs": [
        {
          "output_type": "stream",
          "name": "stdout",
          "text": [
            "VaRsHiNi\n"
          ]
        }
      ],
      "source": [
        "# INDEX EVEN WE CAN PRINT CAPITAL LETTERS\n",
        "\n",
        "n=\"varshini\"\n",
        "k=\"\"\n",
        "for i in range(len(n)):\n",
        "    if i%2==0:\n",
        "        k+=n[i].upper()\n",
        "    else:\n",
        "       k+=n[i].lower()\n",
        "print(k)"
      ]
    },
    {
      "cell_type": "code",
      "source": [
        "# 709:- TO LOWER CASE\n",
        "\n",
        "s = \"Hello\"\n",
        "k=s.lower()\n",
        "print(k)"
      ],
      "metadata": {
        "colab": {
          "base_uri": "https://localhost:8080/"
        },
        "id": "gjdoYkZbZ88y",
        "outputId": "6529877b-051d-4125-de58-95d1ac69db3b"
      },
      "execution_count": 3,
      "outputs": [
        {
          "output_type": "stream",
          "name": "stdout",
          "text": [
            "hello\n"
          ]
        }
      ]
    },
    {
      "cell_type": "code",
      "source": [
        "n=\"varshini\"\n",
        "k=\"\"\n",
        "for i in range(len(n)):\n",
        "    if i%2==0:\n",
        "        k+=n[i].upper()\n",
        "    else:\n",
        "        k+=str(ord(n[i]))\n",
        "print(k)\n"
      ],
      "metadata": {
        "colab": {
          "base_uri": "https://localhost:8080/"
        },
        "id": "Vw16hEPkbKFW",
        "outputId": "3fde7084-d6ae-4a24-c0d5-00cc52f7abe6"
      },
      "execution_count": 5,
      "outputs": [
        {
          "output_type": "stream",
          "name": "stdout",
          "text": [
            "V97R115H105N105\n"
          ]
        }
      ]
    },
    {
      "cell_type": "code",
      "source": [],
      "metadata": {
        "id": "uWUiDpqPeUyt"
      },
      "execution_count": null,
      "outputs": []
    }
  ]
}