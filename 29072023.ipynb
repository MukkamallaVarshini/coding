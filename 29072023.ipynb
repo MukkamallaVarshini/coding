{
  "nbformat": 4,
  "nbformat_minor": 0,
  "metadata": {
    "colab": {
      "provenance": [],
      "authorship_tag": "ABX9TyNwGWEPch5lCxX66qTbeFUr"
    },
    "kernelspec": {
      "name": "python3",
      "display_name": "Python 3"
    },
    "language_info": {
      "name": "python"
    }
  },
  "cells": [
    {
      "cell_type": "code",
      "execution_count": 32,
      "metadata": {
        "colab": {
          "base_uri": "https://localhost:8080/"
        },
        "id": "_sWOnB9vS69t",
        "outputId": "3b26283a-cfa8-4f11-d4c0-cdfc61701f05"
      },
      "outputs": [
        {
          "output_type": "stream",
          "name": "stdout",
          "text": [
            "enter a month no:2\n",
            "28 days/29 days\n"
          ]
        }
      ],
      "source": [
        "  /// HAILSTONE //////\n",
        "no=int(input(\"enter a number:\"))\n",
        "while(no!=1):\n",
        "  print(no)\n",
        "  if no%2==0:\n",
        "    no=no//2\n",
        "  else:\n",
        "    no=no*3+1\n",
        "\n",
        "\n",
        "////////// fibonacci series /////\n",
        "n=int(input(\"enter range:\"))\n",
        "n1=0\n",
        "n2=1\n",
        "print(n1,n2,end=\" \")\n",
        "for i in range(2,n):\n",
        "  n3=n1+n2\n",
        "  n1=n2\n",
        "  n2=n3\n",
        "  print(n3,end=\" \")\n",
        "\n",
        "\n",
        "  ///// month //////\n",
        "\n",
        "m=int(input(\"enter a month no:\"))\n",
        "if m==2:\n",
        "  print(\"28 days/29 days\")\n",
        "elif m in[1,3,5,7,8,10,12]:\n",
        "  print(\"31 days\")\n",
        "else:\n",
        "  print(\"30 days\")\n",
        "\n",
        "\n"
      ]
    }
  ]
}