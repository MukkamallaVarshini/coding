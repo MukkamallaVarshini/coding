{
  "nbformat": 4,
  "nbformat_minor": 0,
  "metadata": {
    "colab": {
      "provenance": [],
      "authorship_tag": "ABX9TyMs6xRovcjCqTPwUkW6aJzN"
    },
    "kernelspec": {
      "name": "python3",
      "display_name": "Python 3"
    },
    "language_info": {
      "name": "python"
    }
  },
  "cells": [
    {
      "cell_type": "code",
      "execution_count": null,
      "metadata": {
        "colab": {
          "base_uri": "https://localhost:8080/"
        },
        "id": "I-stULbOJJHy",
        "outputId": "6be58653-8d6c-41e0-b70b-21ab94cd277d"
      },
      "outputs": [
        {
          "output_type": "stream",
          "name": "stdout",
          "text": [
            "20 ---> 10 ---> "
          ]
        }
      ],
      "source": [
        "   #  insert  new node at begining of the single linked list\n",
        "\n",
        "\n",
        "class Node:\n",
        "   # create a new node\n",
        "  def __init__(self,data):\n",
        "    self.data=data\n",
        "    self.ref=None\n",
        "class Linked_List:\n",
        "  def __init__(self):\n",
        "    self.head=None      # ll is empty\n",
        "  def print_LL(self):\n",
        "    if self.head is None:\n",
        "      print(\"LL is empty\")\n",
        "    else:\n",
        "      n=self.head\n",
        "      while n is not None:\n",
        "        print(n.data,\"--->\",end=\" \")\n",
        "        n=n.ref\n",
        "  def add_begin(self,data):\n",
        "    new_node=Node(data)\n",
        "    new_node.ref=self.head\n",
        "    self.head=new_node\n",
        "LL1=Linked_List()\n",
        "LL1.add_begin(10)\n",
        "LL1.add_begin(20)\n",
        "LL1.print_LL()\n"
      ]
    },
    {
      "cell_type": "code",
      "source": [
        "  # Insert new node at end of the single linked list\n",
        "\n",
        "\n",
        "class Node:\n",
        "  def __init__(self,data):\n",
        "    self.data=data\n",
        "    self.ref=None\n",
        "class Linked_List:\n",
        "  def __init__(self):\n",
        "    self.head=None\n",
        "  def print_LL(self):\n",
        "    if self.head is None:\n",
        "      print(\"LL is empty\")\n",
        "    else:\n",
        "      n=self.head\n",
        "      while n is not None:\n",
        "        print(n.data,\"--->\",end=\" \")\n",
        "        n=n.ref\n",
        "  def add_begin(self,data):\n",
        "    new_node=Node(data)\n",
        "    new_node.ref=self.head\n",
        "    self.head=new_node\n",
        "  def add_end(self,data):\n",
        "    new_node=Node(data)   # create new node\n",
        "    if self.head is None:\n",
        "      self.head=new_node  # new node as head\n",
        "    else:\n",
        "      n=self.head\n",
        "      # going to last node\n",
        "      while n.ref is not None:\n",
        "        n=n.ref\n",
        "      n.ref=new_node\n",
        "LL1=Linked_List()\n",
        "LL1.add_begin(10)\n",
        "LL1.add_end(50)\n",
        "LL1.add_begin(20)\n",
        "LL1.print_LL()\n"
      ],
      "metadata": {
        "colab": {
          "base_uri": "https://localhost:8080/"
        },
        "id": "OYRSC6pTJkaS",
        "outputId": "a734c8c3-a3e3-4403-a308-80a23d8981b0"
      },
      "execution_count": null,
      "outputs": [
        {
          "output_type": "stream",
          "name": "stdout",
          "text": [
            "20 ---> 10 ---> 50 ---> "
          ]
        }
      ]
    },
    {
      "cell_type": "code",
      "source": [],
      "metadata": {
        "id": "56b2iKnmQMqL"
      },
      "execution_count": null,
      "outputs": []
    },
    {
      "cell_type": "code",
      "source": [
        "class Node:\n",
        "  def __init__(self,data):\n",
        "    self.data=data\n",
        "    self.ref=None\n",
        "class Linked_List:\n",
        "  def __init__(self):\n",
        "    self.head=None\n",
        "  def print_LL(self):\n",
        "    if self.head is None:\n",
        "      print(\"LL is empty\")\n",
        "    else:\n",
        "      n=self.head\n",
        "      while n is not None:\n",
        "        print(n.data,\"--->\",end=\" \")\n",
        "        n=n.ref\n",
        "  def add_begin(self,data):\n",
        "    new_node=Node(data)\n",
        "    new_node.ref=self.head\n",
        "    self.head=new_node\n",
        "  def add_end(self,data):\n",
        "    new_node=Node(data)   # create new node\n",
        "    if self.head is None:\n",
        "      self.head=new_node  # new node as head\n",
        "    else:\n",
        "      n=self.head\n",
        "      # going to last node\n",
        "      while n.ref is not None:\n",
        "        n=n.ref\n",
        "      n.ref=new_node\n",
        "  def add_after(self,data,x):\n",
        "    n=self.head\n",
        "    # searching for x\n",
        "    while n is not None:\n",
        "      if x==n.data:  # x is the 1st node\n",
        "        break\n",
        "      n=n.ref  # next node reference as n\n",
        "    if n is None:\n",
        "      print(\"node is not present in ll\")\n",
        "    else:\n",
        "      new_node=Node(data)\n",
        "      new_node.ref=n.ref\n",
        "      n.ref=new_node\n",
        "LL1=Linked_List()\n",
        "LL1.add_end(100)\n",
        "LL1.add_begin(20)\n",
        "LL1.add_begin(10)\n",
        "LL1.add_after(200,100)\n",
        "LL1.print_LL()\n"
      ],
      "metadata": {
        "colab": {
          "base_uri": "https://localhost:8080/"
        },
        "id": "EoNlPIXsSSKn",
        "outputId": "b89f4bd0-76af-489e-88cc-80afa5f30858"
      },
      "execution_count": null,
      "outputs": [
        {
          "output_type": "stream",
          "name": "stdout",
          "text": [
            "10 ---> 20 ---> 100 ---> 200 ---> "
          ]
        }
      ]
    }
  ]
}